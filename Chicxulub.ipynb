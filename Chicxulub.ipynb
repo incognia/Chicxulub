{
 "cells": [
  {
   "cell_type": "markdown",
   "id": "bae41b66-ed95-42d6-8476-b1c33512375e",
   "metadata": {},
   "source": [
    "# Calculadora de coordenadas"
   ]
  },
  {
   "cell_type": "code",
   "execution_count": 1,
   "id": "92c0910e-c55f-4faf-bcd6-664008ad06ae",
   "metadata": {},
   "outputs": [
    {
     "name": "stdin",
     "output_type": "stream",
     "text": [
      "Ingresa los grados de latitud:  21\n",
      "Ingresa los minutos de latitud:  24\n",
      "Ingresa los segundos de latitud:  00\n",
      "Especifica 'N' para norte o 'S' para sur:  N\n",
      "Ingresa los grados de longitud:  89\n",
      "Ingresa los minutos de longitud:  31\n",
      "Ingresa los segundos de longitud:  00\n",
      "Especifica 'E' para este o 'O' para oeste:  O\n"
     ]
    },
    {
     "name": "stdout",
     "output_type": "stream",
     "text": [
      "Coordenadas de latitud en grados, minutos y segundos: 21.0° 24.0' 0.0\" N\n",
      "Coordenadas de longitud en grados, minutos y segundos: 89.0° 31.0' 0.0\" O\n",
      "Coordenadas de latitud en grados decimales: 21.4 grados\n",
      "Coordenadas de longitud en grados decimales: -89.51666666666667 grados\n"
     ]
    }
   ],
   "source": [
    "def degrees_to_decimal(degrees, minutes, seconds, direction):\n",
    "    decimal_degrees = degrees + (minutes / 60) + (seconds / 3600)\n",
    "    if direction in ['S', 'O']:\n",
    "        decimal_degrees = -decimal_degrees\n",
    "    return decimal_degrees\n",
    "\n",
    "# Solicitar al usuario las coordenadas de latitud\n",
    "lat_degrees = float(input(\"Ingresa los grados de latitud: \"))\n",
    "lat_minutes = float(input(\"Ingresa los minutos de latitud: \"))\n",
    "lat_seconds = float(input(\"Ingresa los segundos de latitud: \"))\n",
    "lat_direction = input(\"Especifica 'N' para norte o 'S' para sur: \")\n",
    "\n",
    "# Solicitar al usuario las coordenadas de longitud\n",
    "lon_degrees = float(input(\"Ingresa los grados de longitud: \"))\n",
    "lon_minutes = float(input(\"Ingresa los minutos de longitud: \"))\n",
    "lon_seconds = float(input(\"Ingresa los segundos de longitud: \"))\n",
    "lon_direction = input(\"Especifica 'E' para este o 'O' para oeste: \")\n",
    "\n",
    "# Calcular las coordenadas en grados decimales\n",
    "lat_decimal = degrees_to_decimal(lat_degrees, lat_minutes, lat_seconds, lat_direction)\n",
    "lon_decimal = degrees_to_decimal(lon_degrees, lon_minutes, lon_seconds, lon_direction)\n",
    "\n",
    "# Imprimir las coordenadas en grados y grados decimales\n",
    "print(f'Coordenadas de latitud en grados, minutos y segundos: {lat_degrees}° {lat_minutes}\\' {lat_seconds}\" {lat_direction}')\n",
    "print(f'Coordenadas de longitud en grados, minutos y segundos: {lon_degrees}° {lon_minutes}\\' {lon_seconds}\" {lon_direction}')\n",
    "\n",
    "print(f'Coordenadas de latitud en grados decimales: {lat_decimal} grados')\n",
    "print(f'Coordenadas de longitud en grados decimales: {lon_decimal} grados')"
   ]
  },
  {
   "cell_type": "code",
   "execution_count": 2,
   "id": "b010432b-ef20-4542-a30e-c47d70b7f468",
   "metadata": {},
   "outputs": [
    {
     "name": "stdin",
     "output_type": "stream",
     "text": [
      "Ingresa la distancia en kilómetros:  90\n",
      "Ingresa la latitud de referencia en grados:  21.4\n"
     ]
    },
    {
     "name": "stdout",
     "output_type": "stream",
     "text": [
      "90.0 kilómetros tomando como referencia 21.4 grados de latitud son aproximadamente 0.8693242999368848 grados de longitud.\n"
     ]
    },
    {
     "name": "stdin",
     "output_type": "stream",
     "text": [
      "Ingresa la longitud de referencia en grados:  -89.51666666666667\n"
     ]
    },
    {
     "name": "stdout",
     "output_type": "stream",
     "text": [
      "Suma con longitud de referencia: -88.64734236672979 grados de longitud\n",
      "Resta con longitud de referencia: -90.38599096660354 grados de longitud\n"
     ]
    }
   ],
   "source": [
    "import math\n",
    "\n",
    "def km_to_degrees_longitude(kilometers, reference_latitude):\n",
    "    earth_radius_km = 6371  # Radio promedio de la Tierra en kilómetros\n",
    "    degrees_longitude = (kilometers / (earth_radius_km * math.cos(math.radians(reference_latitude))))\n",
    "    return degrees_longitude\n",
    "\n",
    "# Solicitar al usuario la distancia en kilómetros y la latitud de referencia\n",
    "distance_in_km = float(input(\"Ingresa la distancia en kilómetros: \"))\n",
    "reference_latitude = float(input(\"Ingresa la latitud de referencia en grados: \"))\n",
    "\n",
    "degrees = math.degrees(km_to_degrees_longitude(distance_in_km, reference_latitude))\n",
    "\n",
    "print(f'{distance_in_km} kilómetros tomando como referencia {reference_latitude} grados de latitud son aproximadamente {degrees} grados de longitud.')\n",
    "\n",
    "# Solicitar al usuario la longitud de referencia\n",
    "reference_longitude = float(input(\"Ingresa la longitud de referencia en grados: \"))\n",
    "\n",
    "# Calcular la suma y la resta\n",
    "sum_longitude = reference_longitude + degrees\n",
    "diff_longitude = reference_longitude - degrees\n",
    "\n",
    "print(f'Suma con longitud de referencia: {sum_longitude} grados de longitud')\n",
    "print(f'Resta con longitud de referencia: {diff_longitude} grados de longitud')"
   ]
  },
  {
   "cell_type": "code",
   "execution_count": 1,
   "id": "f91b575d-e093-44e2-af75-787986249e4b",
   "metadata": {},
   "outputs": [
    {
     "name": "stdin",
     "output_type": "stream",
     "text": [
      "Ingresa la distancia en kilómetros:  90\n",
      "Especifica 'N' para norte o 'S' para sur:  N\n"
     ]
    },
    {
     "name": "stdout",
     "output_type": "stream",
     "text": [
      "Latitud en grados, minutos y segundos: 0.8093894453268575° 48' 33.802003176687094\" N\n",
      "Latitud en grados decimales: 0.014126510751844295 grados\n"
     ]
    },
    {
     "name": "stdin",
     "output_type": "stream",
     "text": [
      "Ingresa la latitud de referencia en grados:  21.4\n"
     ]
    },
    {
     "name": "stdout",
     "output_type": "stream",
     "text": [
      "Suma con latitud de referencia: 22.209389445326856 grados\n",
      "Resta con latitud de referencia: 20.59061055467314 grados\n"
     ]
    }
   ],
   "source": [
    "import math\n",
    "\n",
    "def km_to_latitude(kilometers, is_north):\n",
    "    earth_radius_km = 6371  # Radio promedio de la Tierra en kilómetros\n",
    "\n",
    "    # Calcular los grados decimales\n",
    "    decimal_degrees = kilometers / earth_radius_km\n",
    "    if not is_north:\n",
    "        decimal_degrees = -decimal_degrees\n",
    "\n",
    "    # Convertir de radianes a grados\n",
    "    degrees = math.degrees(decimal_degrees)\n",
    "\n",
    "    # Calcular grados, minutos y segundos\n",
    "    degrees_int = int(degrees)\n",
    "    decimal_minutes = (degrees - degrees_int) * 60\n",
    "    minutes = int(decimal_minutes)\n",
    "    seconds = (decimal_minutes - minutes) * 60\n",
    "\n",
    "    return degrees, minutes, seconds, decimal_degrees\n",
    "\n",
    "# Solicitar al usuario la distancia en kilómetros\n",
    "distance_in_km = float(input(\"Ingresa la distancia en kilómetros: \"))\n",
    "\n",
    "# Preguntar si la latitud es norte o sur\n",
    "latitude_direction = input(\"Especifica 'N' para norte o 'S' para sur: \").upper()\n",
    "\n",
    "if latitude_direction not in ['N', 'S']:\n",
    "    print(\"Dirección de latitud no válida. Debe ser 'N' o 'S.\")\n",
    "else:\n",
    "    is_north = (latitude_direction == 'N')\n",
    "\n",
    "    degrees, minutes, seconds, decimal_degrees = km_to_latitude(distance_in_km, is_north)\n",
    "\n",
    "    # Imprimir los resultados\n",
    "    print(f'Latitud en grados, minutos y segundos: {degrees}° {minutes}\\' {seconds}\" {latitude_direction}')\n",
    "    print(f'Latitud en grados decimales: {decimal_degrees} grados')\n",
    "\n",
    "    # Solicitar al usuario la latitud de referencia en grados\n",
    "    reference_latitude = float(input(\"Ingresa la latitud de referencia en grados: \"))\n",
    "\n",
    "    # Calcular la suma y la resta\n",
    "    sum_latitude = reference_latitude + degrees\n",
    "    diff_latitude = reference_latitude - degrees\n",
    "\n",
    "    print(f'Suma con latitud de referencia: {sum_latitude} grados')\n",
    "    print(f'Resta con latitud de referencia: {diff_latitude} grados')"
   ]
  },
  {
   "cell_type": "code",
   "execution_count": null,
   "id": "6af5a6dc-d246-46ec-ad20-5c81dbe41943",
   "metadata": {},
   "outputs": [],
   "source": []
  }
 ],
 "metadata": {
  "kernelspec": {
   "display_name": "Python 3 (ipykernel)",
   "language": "python",
   "name": "python3"
  },
  "language_info": {
   "codemirror_mode": {
    "name": "ipython",
    "version": 3
   },
   "file_extension": ".py",
   "mimetype": "text/x-python",
   "name": "python",
   "nbconvert_exporter": "python",
   "pygments_lexer": "ipython3",
   "version": "3.11.6"
  }
 },
 "nbformat": 4,
 "nbformat_minor": 5
}
